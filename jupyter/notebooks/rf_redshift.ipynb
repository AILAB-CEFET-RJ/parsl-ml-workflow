{
 "cells": [
  {
   "cell_type": "code",
   "execution_count": 1,
   "metadata": {},
   "outputs": [],
   "source": [
    "from numpy import *\n",
    "from sklearn.ensemble import RandomForestRegressor\n",
    "from sklearn.model_selection import train_test_split\n",
    "\n",
    "from plot_service import *"
   ]
  },
  {
   "cell_type": "code",
   "execution_count": 3,
   "metadata": {},
   "outputs": [
    {
     "name": "stdout",
     "output_type": "stream",
     "text": [
      "Data loaded!\n"
     ]
    }
   ],
   "source": [
    "train_file = 'datasets/redshifts.csv'\n",
    "\n",
    "X = loadtxt(train_file, usecols=(1, 2, 3, 4, 5, 6, 7, 8, 9, 10), unpack=True, delimiter=',').T\n",
    "Y = loadtxt(train_file, unpack=True, usecols=(11), delimiter=',')\n",
    "\n",
    "X_train, X_test, y_train, y_test = train_test_split(X, Y, test_size=0.2, random_state=42)\n",
    "X_train, X_val, y_train, y_val = train_test_split(X_train, y_train, test_size=0.2, random_state=42)\n",
    "\n",
    "print('Data loaded!')"
   ]
  },
  {
   "cell_type": "code",
   "execution_count": 4,
   "metadata": {},
   "outputs": [
    {
     "name": "stdout",
     "output_type": "stream",
     "text": [
      "| 20.8201 | 18.5113 | 17.2795 | 16.7894 | 16.4611 | 0.181395  | 0.0123181  | 0.00690208 | 0.00650488 | 0.0170449  |\n",
      "| 19.1041 | 17.3282 | 16.304  | 15.8546 | 15.5137 | 0.0542467 | 0.00679417 | 0.00442695 | 0.00423764 | 0.00878743 |\n",
      "| 20.6168 | 18.5021 | 17.3794 | 16.9137 | 16.5403 | 0.147581  | 0.0111245  | 0.00677101 | 0.00662477 | 0.0145896  |\n",
      "| 22.0622 | 20.1525 | 18.4359 | 17.706  | 17.2676 | 0.56777   | 0.051707   | 0.0177945  | 0.0141868  | 0.0334817  |\n",
      "| 20.2099 | 18.3034 | 17.2462 | 16.819  | 16.4606 | 0.0796464 | 0.00858408 | 0.00567301 | 0.00556344 | 0.0111667  |\n",
      "| 20.7708 | 18.6046 | 17.3616 | 16.9112 | 16.5767 | 0.126928  | 0.0101941  | 0.00598473 | 0.00575985 | 0.0128102  |\n",
      "| 22.5801 | 20.5084 | 18.6342 | 17.8495 | 17.4039 | 1.10245   | 0.0779481  | 0.0216593  | 0.0163227  | 0.0391475  |\n",
      "| 18.8676 | 17.5225 | 17.0249 | 16.7668 | 16.6301 | 0.0523219 | 0.00970681 | 0.00734196 | 0.00740002 | 0.0195377  |\n",
      "| 19.3541 | 17.5048 | 16.5986 | 16.1868 | 15.886  | 0.0433344 | 0.00568896 | 0.00427102 | 0.00423488 | 0.0098379  |\n",
      "| 19.2937 | 18.1125 | 17.7162 | 17.4545 | 17.3119 | 0.0535492 | 0.0103033  | 0.0107337  | 0.0139223  | 0.033394   |\n",
      "| 17.9728 | 16.1111 | 15.3338 | 14.9346 | 14.6557 | 0.0235991 | 0.00339728 | 0.00281805 | 0.00273548 | 0.00519895 |\n",
      "| 16.3584 | 15.1441 | 14.6144 | 14.3579 | 14.1184 | 0.013224  | 0.00288097 | 0.00262584 | 0.00297858 | 0.00775018 |\n",
      "| 19.4593 | 18.3374 | 17.568  | 17.1619 | 17.0209 | 0.0635776 | 0.0115944  | 0.0085101  | 0.00840208 | 0.0270679  |\n",
      "| 19.3789 | 17.8336 | 16.8317 | 16.4112 | 16.0907 | 0.0573395 | 0.00839592 | 0.00546862 | 0.00563827 | 0.0130658  |\n",
      "| 23.2094 | 21.98   | 21.3985 | 21.3102 | 20.5421 | 0.844515  | 0.109181   | 0.111893   | 0.164158   | 0.297284   |\n",
      "| 20.0191 | 19.1229 | 18.7849 | 18.47   | 18.4845 | 0.0844054 | 0.0156306  | 0.0150627  | 0.0160581  | 0.0514898  |\n",
      "| 19.266  | 17.8199 | 16.9984 | 16.4895 | 16.1024 | 0.0566035 | 0.00758847 | 0.00562398 | 0.00533599 | 0.0128413  |\n",
      "| 19.8718 | 18.0035 | 16.9754 | 16.508  | 16.2188 | 0.0790646 | 0.00831219 | 0.00550807 | 0.00505127 | 0.0121875  |\n",
      "| 18.6302 | 17.3626 | 16.9044 | 16.5815 | 16.4767 | 0.0330304 | 0.00546571 | 0.00536844 | 0.00554766 | 0.0173777  |\n",
      "| 20.5018 | 18.7821 | 17.6322 | 17.1596 | 16.819  | 0.103222  | 0.0119228  | 0.00729374 | 0.00696037 | 0.0163847  |\n",
      "| 21.9821 | 19.8085 | 18.2488 | 17.693  | 17.331  | 0.312679  | 0.0216699  | 0.0101401  | 0.00937184 | 0.0241541  |\n",
      "| 21.907  | 19.9656 | 18.362  | 17.7042 | 17.3211 | 0.333931  | 0.0346271  | 0.0126063  | 0.0102359  | 0.0217043  |\n",
      "| 20.2024 | 18.5495 | 17.5335 | 17.094  | 16.7826 | 0.0844259 | 0.0111667  | 0.00686259 | 0.00663348 | 0.0146072  |\n",
      "| 19.1228 | 17.9063 | 17.2662 | 16.8836 | 16.6908 | 0.0501164 | 0.00779255 | 0.00688256 | 0.00702504 | 0.0219771  |\n",
      "| 22.0744 | 19.5836 | 18.2784 | 17.8095 | 17.4403 | 0.695     | 0.0282173  | 0.0123357  | 0.0115421  | 0.0248172  |\n",
      "| 19.9767 | 18.1568 | 17.3171 | 16.9472 | 16.6537 | 0.0664951 | 0.00780254 | 0.00590759 | 0.00595904 | 0.0126203  |\n",
      "| 20.029  | 18.4544 | 17.6003 | 17.2084 | 16.8663 | 0.0996032 | 0.0117988  | 0.00823723 | 0.00880963 | 0.024895   |\n",
      "| 19.5672 | 18.0881 | 17.0396 | 16.5423 | 16.2705 | 0.10389   | 0.0130414  | 0.00812219 | 0.00808928 | 0.0195891  |\n",
      "| 19.6792 | 18.4603 | 17.8612 | 17.4933 | 17.2783 | 0.0852367 | 0.00944047 | 0.00811187 | 0.00824251 | 0.0249059  |\n",
      "| 20.8231 | 18.8713 | 17.8418 | 17.4218 | 17.0591 | 0.109711  | 0.0109149  | 0.00730953 | 0.00741322 | 0.0161768  |\n"
     ]
    }
   ],
   "source": [
    "plot_simple_table(X_train.T[:, :30])"
   ]
  },
  {
   "cell_type": "code",
   "execution_count": 5,
   "metadata": {},
   "outputs": [
    {
     "name": "stdout",
     "output_type": "stream",
     "text": [
      "building tree 1 of 10\n",
      "building tree 2 of 10\n",
      "building tree 3 of 10\n",
      "building tree 4 of 10\n",
      "building tree 5 of 10\n",
      "building tree 6 of 10\n",
      "building tree 7 of 10\n",
      "building tree 8 of 10\n",
      "building tree 9 of 10\n",
      "building tree 10 of 10\n"
     ]
    },
    {
     "name": "stderr",
     "output_type": "stream",
     "text": [
      "[Parallel(n_jobs=-1)]: Done  10 out of  10 | elapsed:   17.5s finished\n",
      "[Parallel(n_jobs=4)]: Done  10 out of  10 | elapsed:    0.2s finished\n"
     ]
    }
   ],
   "source": [
    "model = RandomForestRegressor(n_estimators = 10, random_state = 42, verbose=2, n_jobs=-1)\n",
    "model.fit(X_train, y_train)\n",
    "preds = model.predict(X_test)"
   ]
  },
  {
   "cell_type": "code",
   "execution_count": 6,
   "metadata": {},
   "outputs": [
    {
     "name": "stdout",
     "output_type": "stream",
     "text": [
      "Cross-Val Score: 0.910388142303\n"
     ]
    },
    {
     "name": "stderr",
     "output_type": "stream",
     "text": [
      "[Parallel(n_jobs=4)]: Done  10 out of  10 | elapsed:    0.2s finished\n"
     ]
    }
   ],
   "source": [
    "score = model.score(X_val, y_val)\n",
    "print('Cross-Val Score:', score)"
   ]
  },
  {
   "cell_type": "code",
   "execution_count": 7,
   "metadata": {},
   "outputs": [
    {
     "name": "stdout",
     "output_type": "stream",
     "text": [
      "|     Real |   Predict |\n",
      "|----------+-----------|\n",
      "| 0.202258 | 0.125466  |\n",
      "| 0.384286 | 0.320329  |\n",
      "| 0.033815 | 0.034081  |\n",
      "| 0.635514 | 0.625083  |\n",
      "| 0.082844 | 0.0986293 |\n",
      "| 0.077451 | 0.114145  |\n",
      "| 0.173062 | 0.17957   |\n",
      "| 0.140931 | 0.109902  |\n",
      "| 0.042802 | 0.060268  |\n",
      "| 0.080199 | 0.0938806 |\n",
      "| 0.159216 | 0.156871  |\n",
      "| 0.275251 | 0.296132  |\n",
      "| 0.137887 | 0.140345  |\n",
      "| 0.242895 | 0.196637  |\n",
      "| 0.085739 | 0.0770157 |\n",
      "| 0.167368 | 0.182406  |\n",
      "| 0.049474 | 0.0592273 |\n",
      "| 0.389837 | 0.367757  |\n",
      "| 0.175565 | 0.150409  |\n",
      "| 0.12229  | 0.111606  |\n",
      "| 0.18369  | 0.153568  |\n",
      "| 0.066047 | 0.0634588 |\n",
      "| 0.101232 | 0.125483  |\n",
      "| 0.188021 | 0.19888   |\n",
      "| 0.25487  | 0.192181  |\n",
      "| 0.088456 | 0.103327  |\n",
      "| 0.135544 | 0.139347  |\n",
      "| 0.333799 | 0.33931   |\n",
      "| 0.257815 | 0.243323  |\n",
      "| 0.066265 | 0.0943204 |\n",
      "| 0.085536 | 0.117673  |\n",
      "| 0.380118 | 0.34751   |\n",
      "| 0.14705  | 0.138125  |\n",
      "| 0.503077 | 0.512485  |\n",
      "| 0.071456 | 0.110469  |\n",
      "| 0.001909 | 0.0126468 |\n",
      "| 0.146141 | 0.142927  |\n",
      "| 0.343    | 0.2912    |\n",
      "| 0.119272 | 0.10318   |\n",
      "| 0.073871 | 0.0741608 |\n",
      "| 0.334592 | 0.350325  |\n",
      "| 0.105794 | 0.0742884 |\n",
      "| 0.095248 | 0.139873  |\n",
      "| 0.193394 | 0.187926  |\n",
      "| 0.047248 | 0.0537022 |\n",
      "| 0.058266 | 0.0541944 |\n",
      "| 0.134502 | 0.106221  |\n",
      "| 0.092814 | 0.0749958 |\n",
      "| 0.115855 | 0.105367  |\n",
      "| 0.058798 | 0.075198  |\n"
     ]
    }
   ],
   "source": [
    "pred = preds.reshape(len(preds))\n",
    "real = y_test\n",
    "\n",
    "plot_table(real, pred)"
   ]
  },
  {
   "cell_type": "code",
   "execution_count": 8,
   "metadata": {},
   "outputs": [
    {
     "data": {
      "image/png": "[encoded data removed]",
      "text/plain": [
       "<Figure size 432x288 with 4 Axes>"
      ]
     },
     "metadata": {},
     "output_type": "display_data"
    }
   ],
   "source": [
    "plot_scatter(X_train, y_train, X_val, y_val, X_test, y_test, preds, show_only=True)"
   ]
  },
  {
   "cell_type": "markdown",
   "metadata": {},
   "source": [
    "### Adhafera:\n",
    "\n",
    "![](adhafera/rf/redshift.png)"
   ]
  },
  {
   "cell_type": "code",
   "execution_count": 9,
   "metadata": {},
   "outputs": [
    {
     "name": "stdout",
     "output_type": "stream",
     "text": [
      "Mean Absolute Error: 0.02 degrees.\n"
     ]
    }
   ],
   "source": [
    "errors = abs(pred - real)\n",
    "print('Mean Absolute Error:', round(mean(errors), 2), 'degrees.')"
   ]
  },
  {
   "cell_type": "code",
   "execution_count": 11,
   "metadata": {},
   "outputs": [
    {
     "name": "stdout",
     "output_type": "stream",
     "text": [
      "Accuracy: 76.78 %.\n"
     ]
    }
   ],
   "source": [
    "mape = 100 * (errors / real)\n",
    "accuracy = 100 - mean(mape)\n",
    "print('Accuracy:', round(accuracy, 2), '%.')"
   ]
  },
  {
   "cell_type": "code",
   "execution_count": 12,
   "metadata": {},
   "outputs": [
    {
     "data": {
      "image/png": "[encoded data removed]",
      "text/plain": [
       "<Figure size 432x288 with 1 Axes>"
      ]
     },
     "metadata": {},
     "output_type": "display_data"
    }
   ],
   "source": [
    "plot_hm(real, pred, show_only=True)"
   ]
  },
  {
   "cell_type": "markdown",
   "metadata": {},
   "source": [
    "### Adhafera:\n",
    "\n",
    "![](adhafera/rf/hm.png)"
   ]
  },
  {
   "cell_type": "code",
   "execution_count": null,
   "metadata": {},
   "outputs": [],
   "source": []
  }
 ],
 "metadata": {
  "kernelspec": {
   "display_name": "Python 3",
   "language": "python",
   "name": "python3"
  },
  "language_info": {
   "codemirror_mode": {
    "name": "ipython",
    "version": 3
   },
   "file_extension": ".py",
   "mimetype": "text/x-python",
   "name": "python",
   "nbconvert_exporter": "python",
   "pygments_lexer": "ipython3",
   "version": "3.6.3"
  }
 },
 "nbformat": 4,
 "nbformat_minor": 2
}
