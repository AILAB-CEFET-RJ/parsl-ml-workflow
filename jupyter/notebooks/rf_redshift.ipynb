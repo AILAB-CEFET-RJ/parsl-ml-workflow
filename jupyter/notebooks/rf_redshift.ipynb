{
 "cells": [
  {
   "cell_type": "code",
   "execution_count": 1,
   "metadata": {},
   "outputs": [],
   "source": [
    "from numpy import *\n",
    "from sklearn.ensemble import RandomForestRegressor\n",
    "from sklearn.model_selection import train_test_split\n",
    "\n",
    "from plot_service import *"
   ]
  },
  {
   "cell_type": "code",
   "execution_count": 3,
   "metadata": {},
   "outputs": [
    {
     "name": "stdout",
     "output_type": "stream",
     "text": [
      "Data loaded!\n"
     ]
    }
   ],
   "source": [
    "train_file = 'datasets/train.csv'\n",
    "\n",
    "X = loadtxt(train_file, usecols=(1, 2, 3, 4, 5, 6, 7, 8, 9, 10), unpack=True, delimiter=',').T\n",
    "Y = loadtxt(train_file, unpack=True, usecols=(11), delimiter=',')\n",
    "\n",
    "X_train, X_test, y_train, y_test = train_test_split(X, Y, test_size=0.2, random_state=1)\n",
    "X_train, X_val, y_train, y_val = train_test_split(X_train, y_train, test_size=0.2, random_state=1)\n",
    "\n",
    "print('Data loaded!')"
   ]
  },
  {
   "cell_type": "code",
   "execution_count": 4,
   "metadata": {},
   "outputs": [
    {
     "name": "stdout",
     "output_type": "stream",
     "text": [
      "building tree 1 of 10building tree 2 of 10\n",
      "building tree 3 of 10\n",
      "building tree 4 of 10\n",
      "\n",
      "building tree 5 of 10\n",
      "building tree 6 of 10\n",
      "building tree 7 of 10\n",
      "building tree 8 of 10\n",
      "building tree 9 of 10\n",
      "building tree 10 of 10\n"
     ]
    },
    {
     "name": "stderr",
     "output_type": "stream",
     "text": [
      "[Parallel(n_jobs=-1)]: Done  10 out of  10 | elapsed:   35.7s finished\n",
      "[Parallel(n_jobs=4)]: Done  10 out of  10 | elapsed:    0.5s finished\n"
     ]
    }
   ],
   "source": [
    "model = RandomForestRegressor(n_estimators = 10, random_state = 42, verbose=2, n_jobs=-1)\n",
    "model.fit(X_train, y_train)\n",
    "preds = model.predict(X_test)"
   ]
  },
  {
   "cell_type": "code",
   "execution_count": 5,
   "metadata": {},
   "outputs": [
    {
     "name": "stderr",
     "output_type": "stream",
     "text": [
      "[Parallel(n_jobs=4)]: Done  10 out of  10 | elapsed:    0.4s finished\n"
     ]
    },
    {
     "name": "stdout",
     "output_type": "stream",
     "text": [
      "Cross-Val Score: 0.912745228071\n"
     ]
    }
   ],
   "source": [
    "score = model.score(X_val, y_val)\n",
    "print('Cross-Val Score:', score)"
   ]
  },
  {
   "cell_type": "code",
   "execution_count": 6,
   "metadata": {},
   "outputs": [
    {
     "name": "stdout",
     "output_type": "stream",
     "text": [
      "|     Real |   Predict |\n",
      "|----------+-----------|\n",
      "| 0.280669 | 0.288452  |\n",
      "| 0.077872 | 0.0913407 |\n",
      "| 0.104906 | 0.102565  |\n",
      "| 0.275276 | 0.250073  |\n",
      "| 0.485488 | 0.437055  |\n",
      "| 0.114552 | 0.173941  |\n",
      "| 0.07531  | 0.0877116 |\n",
      "| 0.034378 | 0.0551595 |\n",
      "| 0.025761 | 0.0193767 |\n",
      "| 0.138474 | 0.135086  |\n",
      "| 0.09235  | 0.0488354 |\n",
      "| 0.103453 | 0.0958228 |\n",
      "| 0.055177 | 0.0729398 |\n",
      "| 0.054338 | 0.0806469 |\n",
      "| 0.124842 | 0.0905211 |\n",
      "| 0.706    | 0.5744    |\n",
      "| 0.253669 | 0.245162  |\n",
      "| 0.085852 | 0.124198  |\n",
      "| 0.132435 | 0.144847  |\n",
      "| 0.148348 | 0.139499  |\n",
      "| 0.173093 | 0.169698  |\n",
      "| 0.089478 | 0.0875215 |\n",
      "| 0.390088 | 0.378243  |\n",
      "| 0.160668 | 0.154465  |\n",
      "| 0.211254 | 0.173794  |\n",
      "| 0.157654 | 0.153765  |\n",
      "| 0.159079 | 0.132952  |\n",
      "| 0.109328 | 0.102518  |\n",
      "| 0.13916  | 0.105828  |\n",
      "| 0.071529 | 0.0834521 |\n",
      "| 0.128429 | 0.130889  |\n",
      "| 0.331388 | 0.347014  |\n",
      "| 0.394787 | 0.363086  |\n",
      "| 0.187083 | 0.0706392 |\n",
      "| 0.092121 | 0.0799027 |\n",
      "| 0.067879 | 0.0323532 |\n",
      "| 0.120067 | 0.109383  |\n",
      "| 0.045427 | 0.0439706 |\n",
      "| 0.134617 | 0.0950524 |\n",
      "| 0.078883 | 0.0840725 |\n",
      "| 0.104106 | 0.102271  |\n",
      "| 0.176753 | 0.156252  |\n",
      "| 0.0934   | 0.0613239 |\n",
      "| 0.162188 | 0.155674  |\n",
      "| 0.328195 | 0.34888   |\n",
      "| 0.089858 | 0.11976   |\n",
      "| 0.188    | 0.172729  |\n",
      "| 0.057921 | 0.0621454 |\n",
      "| 0.061093 | 0.081556  |\n",
      "| 0.040511 | 0.0411484 |\n"
     ]
    }
   ],
   "source": [
    "pred = preds.reshape(len(preds))\n",
    "real = y_test\n",
    "\n",
    "plot_table(real, pred)"
   ]
  },
  {
   "cell_type": "code",
   "execution_count": 8,
   "metadata": {},
   "outputs": [
    {
     "data": {
      "image/png": "[encoded data removed]",
      "text/plain": [
       "<Figure size 432x288 with 4 Axes>"
      ]
     },
     "metadata": {},
     "output_type": "display_data"
    }
   ],
   "source": [
    "plot_scatter(X_train, y_train, X_val, y_val, X_test, y_test, preds, show_only=True)"
   ]
  },
  {
   "cell_type": "markdown",
   "metadata": {},
   "source": [
    "### Adhafera:\n",
    "\n",
    "![](rf_redshift.png)"
   ]
  },
  {
   "cell_type": "code",
   "execution_count": 9,
   "metadata": {},
   "outputs": [
    {
     "name": "stdout",
     "output_type": "stream",
     "text": [
      "Mean Absolute Error: 0.02 degrees.\n"
     ]
    }
   ],
   "source": [
    "errors = abs(pred - real)\n",
    "print('Mean Absolute Error:', round(mean(errors), 2), 'degrees.')"
   ]
  },
  {
   "cell_type": "code",
   "execution_count": 10,
   "metadata": {},
   "outputs": [
    {
     "name": "stdout",
     "output_type": "stream",
     "text": [
      "Accuracy: 76.54 %.\n"
     ]
    }
   ],
   "source": [
    "mape = 100 * (errors / real)\n",
    "accuracy = 100 - mean(mape)\n",
    "print('Accuracy:', round(accuracy, 2), '%.')"
   ]
  },
  {
   "cell_type": "code",
   "execution_count": 11,
   "metadata": {},
   "outputs": [
    {
     "data": {
      "image/png": "[encoded data removed]",
      "text/plain": [
       "<Figure size 432x288 with 1 Axes>"
      ]
     },
     "metadata": {},
     "output_type": "display_data"
    }
   ],
   "source": [
    "plot_hm(real, pred, show_only=True)"
   ]
  },
  {
   "cell_type": "markdown",
   "metadata": {},
   "source": [
    "### Adhafera:\n",
    "\n",
    "![](rf_hm.png)"
   ]
  },
  {
   "cell_type": "code",
   "execution_count": null,
   "metadata": {},
   "outputs": [],
   "source": []
  }
 ],
 "metadata": {
  "kernelspec": {
   "display_name": "Python 3",
   "language": "python",
   "name": "python3"
  },
  "language_info": {
   "codemirror_mode": {
    "name": "ipython",
    "version": 3
   },
   "file_extension": ".py",
   "mimetype": "text/x-python",
   "name": "python",
   "nbconvert_exporter": "python",
   "pygments_lexer": "ipython3",
   "version": "3.6.3"
  }
 },
 "nbformat": 4,
 "nbformat_minor": 2
}
