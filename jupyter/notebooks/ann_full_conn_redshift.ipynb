{
 "cells": [
  {
   "cell_type": "code",
   "execution_count": 8,
   "metadata": {},
   "outputs": [],
   "source": [
    "from plot_service import *\n",
    "from numpy import *\n",
    "\n",
    "from sklearn.model_selection import train_test_split\n",
    "from keras.models import Sequential\n",
    "from keras.layers import Dense\n",
    "from keras.layers import Dropout\n",
    "\n",
    "from keras.wrappers.scikit_learn import KerasRegressor"
   ]
  },
  {
   "cell_type": "code",
   "execution_count": 3,
   "metadata": {},
   "outputs": [
    {
     "name": "stdout",
     "output_type": "stream",
     "text": [
      "Data loaded!\n"
     ]
    }
   ],
   "source": [
    "train_file = 'datasets/redshifts.csv'\n",
    "\n",
    "X = loadtxt(train_file, usecols=(1, 2, 3, 4, 5, 6, 7, 8, 9, 10), unpack=True, delimiter=',').T\n",
    "Y = loadtxt(train_file, unpack=True, usecols=(11), delimiter=',')\n",
    "\n",
    "X_train, X_test, y_train, y_test = train_test_split(X, Y, test_size=0.2, random_state=42)\n",
    "X_train, X_val, y_train, y_val = train_test_split(X_train, y_train, test_size=0.2, random_state=42)\n",
    "\n",
    "print('Data loaded!')"
   ]
  },
  {
   "cell_type": "code",
   "execution_count": 4,
   "metadata": {},
   "outputs": [
    {
     "name": "stdout",
     "output_type": "stream",
     "text": [
      "| 20.8201 | 18.5113 | 17.2795 | 16.7894 | 16.4611 | 0.181395  | 0.0123181  | 0.00690208 | 0.00650488 | 0.0170449  |\n",
      "| 19.1041 | 17.3282 | 16.304  | 15.8546 | 15.5137 | 0.0542467 | 0.00679417 | 0.00442695 | 0.00423764 | 0.00878743 |\n",
      "| 20.6168 | 18.5021 | 17.3794 | 16.9137 | 16.5403 | 0.147581  | 0.0111245  | 0.00677101 | 0.00662477 | 0.0145896  |\n",
      "| 22.0622 | 20.1525 | 18.4359 | 17.706  | 17.2676 | 0.56777   | 0.051707   | 0.0177945  | 0.0141868  | 0.0334817  |\n",
      "| 20.2099 | 18.3034 | 17.2462 | 16.819  | 16.4606 | 0.0796464 | 0.00858408 | 0.00567301 | 0.00556344 | 0.0111667  |\n",
      "| 20.7708 | 18.6046 | 17.3616 | 16.9112 | 16.5767 | 0.126928  | 0.0101941  | 0.00598473 | 0.00575985 | 0.0128102  |\n",
      "| 22.5801 | 20.5084 | 18.6342 | 17.8495 | 17.4039 | 1.10245   | 0.0779481  | 0.0216593  | 0.0163227  | 0.0391475  |\n",
      "| 18.8676 | 17.5225 | 17.0249 | 16.7668 | 16.6301 | 0.0523219 | 0.00970681 | 0.00734196 | 0.00740002 | 0.0195377  |\n",
      "| 19.3541 | 17.5048 | 16.5986 | 16.1868 | 15.886  | 0.0433344 | 0.00568896 | 0.00427102 | 0.00423488 | 0.0098379  |\n",
      "| 19.2937 | 18.1125 | 17.7162 | 17.4545 | 17.3119 | 0.0535492 | 0.0103033  | 0.0107337  | 0.0139223  | 0.033394   |\n",
      "| 17.9728 | 16.1111 | 15.3338 | 14.9346 | 14.6557 | 0.0235991 | 0.00339728 | 0.00281805 | 0.00273548 | 0.00519895 |\n",
      "| 16.3584 | 15.1441 | 14.6144 | 14.3579 | 14.1184 | 0.013224  | 0.00288097 | 0.00262584 | 0.00297858 | 0.00775018 |\n",
      "| 19.4593 | 18.3374 | 17.568  | 17.1619 | 17.0209 | 0.0635776 | 0.0115944  | 0.0085101  | 0.00840208 | 0.0270679  |\n",
      "| 19.3789 | 17.8336 | 16.8317 | 16.4112 | 16.0907 | 0.0573395 | 0.00839592 | 0.00546862 | 0.00563827 | 0.0130658  |\n",
      "| 23.2094 | 21.98   | 21.3985 | 21.3102 | 20.5421 | 0.844515  | 0.109181   | 0.111893   | 0.164158   | 0.297284   |\n",
      "| 20.0191 | 19.1229 | 18.7849 | 18.47   | 18.4845 | 0.0844054 | 0.0156306  | 0.0150627  | 0.0160581  | 0.0514898  |\n",
      "| 19.266  | 17.8199 | 16.9984 | 16.4895 | 16.1024 | 0.0566035 | 0.00758847 | 0.00562398 | 0.00533599 | 0.0128413  |\n",
      "| 19.8718 | 18.0035 | 16.9754 | 16.508  | 16.2188 | 0.0790646 | 0.00831219 | 0.00550807 | 0.00505127 | 0.0121875  |\n",
      "| 18.6302 | 17.3626 | 16.9044 | 16.5815 | 16.4767 | 0.0330304 | 0.00546571 | 0.00536844 | 0.00554766 | 0.0173777  |\n",
      "| 20.5018 | 18.7821 | 17.6322 | 17.1596 | 16.819  | 0.103222  | 0.0119228  | 0.00729374 | 0.00696037 | 0.0163847  |\n",
      "| 21.9821 | 19.8085 | 18.2488 | 17.693  | 17.331  | 0.312679  | 0.0216699  | 0.0101401  | 0.00937184 | 0.0241541  |\n",
      "| 21.907  | 19.9656 | 18.362  | 17.7042 | 17.3211 | 0.333931  | 0.0346271  | 0.0126063  | 0.0102359  | 0.0217043  |\n",
      "| 20.2024 | 18.5495 | 17.5335 | 17.094  | 16.7826 | 0.0844259 | 0.0111667  | 0.00686259 | 0.00663348 | 0.0146072  |\n",
      "| 19.1228 | 17.9063 | 17.2662 | 16.8836 | 16.6908 | 0.0501164 | 0.00779255 | 0.00688256 | 0.00702504 | 0.0219771  |\n",
      "| 22.0744 | 19.5836 | 18.2784 | 17.8095 | 17.4403 | 0.695     | 0.0282173  | 0.0123357  | 0.0115421  | 0.0248172  |\n",
      "| 19.9767 | 18.1568 | 17.3171 | 16.9472 | 16.6537 | 0.0664951 | 0.00780254 | 0.00590759 | 0.00595904 | 0.0126203  |\n",
      "| 20.029  | 18.4544 | 17.6003 | 17.2084 | 16.8663 | 0.0996032 | 0.0117988  | 0.00823723 | 0.00880963 | 0.024895   |\n",
      "| 19.5672 | 18.0881 | 17.0396 | 16.5423 | 16.2705 | 0.10389   | 0.0130414  | 0.00812219 | 0.00808928 | 0.0195891  |\n",
      "| 19.6792 | 18.4603 | 17.8612 | 17.4933 | 17.2783 | 0.0852367 | 0.00944047 | 0.00811187 | 0.00824251 | 0.0249059  |\n",
      "| 20.8231 | 18.8713 | 17.8418 | 17.4218 | 17.0591 | 0.109711  | 0.0109149  | 0.00730953 | 0.00741322 | 0.0161768  |\n"
     ]
    }
   ],
   "source": [
    "plot_simple_table(X_train.T[:, :30])"
   ]
  },
  {
   "cell_type": "code",
   "execution_count": 28,
   "metadata": {},
   "outputs": [],
   "source": [
    "def create_baseline_model():\n",
    "    model = Sequential()\n",
    "    model.add(Dense(300, input_dim=10, activation='relu'))\n",
    "    model.add(Dropout(0.1))\n",
    "    model.add(Dense(150, activation='relu'))\n",
    "    model.add(Dropout(0.05))\n",
    "    model.add(Dense(1, activation='linear'))\n",
    "    model.compile(loss='mse', optimizer='adam', metrics=['mse'])\n",
    "    \n",
    "    return model"
   ]
  },
  {
   "cell_type": "code",
   "execution_count": 29,
   "metadata": {},
   "outputs": [
    {
     "name": "stdout",
     "output_type": "stream",
     "text": [
      "Train on 279216 samples, validate on 69804 samples\n",
      "Epoch 1/30\n",
      "279216/279216 [==============================] - 21s 75us/step - loss: 0.0216 - mean_squared_error: 0.0216 - val_loss: 0.0069 - val_mean_squared_error: 0.0069\n",
      "Epoch 2/30\n",
      "279216/279216 [==============================] - 21s 76us/step - loss: 0.0033 - mean_squared_error: 0.0033 - val_loss: 0.0021 - val_mean_squared_error: 0.0021\n",
      "Epoch 3/30\n",
      "279216/279216 [==============================] - 21s 76us/step - loss: 0.0025 - mean_squared_error: 0.0025 - val_loss: 0.0025 - val_mean_squared_error: 0.0025\n",
      "Epoch 4/30\n",
      "279216/279216 [==============================] - 22s 79us/step - loss: 0.0024 - mean_squared_error: 0.0024 - val_loss: 0.0021 - val_mean_squared_error: 0.0021\n",
      "Epoch 5/30\n",
      "279216/279216 [==============================] - 22s 79us/step - loss: 0.0022 - mean_squared_error: 0.0022 - val_loss: 0.0022 - val_mean_squared_error: 0.0022\n",
      "Epoch 6/30\n",
      "279216/279216 [==============================] - 22s 80us/step - loss: 0.0021 - mean_squared_error: 0.0021 - val_loss: 0.0019 - val_mean_squared_error: 0.0019\n",
      "Epoch 7/30\n",
      "279216/279216 [==============================] - 23s 81us/step - loss: 0.0020 - mean_squared_error: 0.0020 - val_loss: 0.0018 - val_mean_squared_error: 0.0018\n",
      "Epoch 8/30\n",
      "279216/279216 [==============================] - 23s 82us/step - loss: 0.0020 - mean_squared_error: 0.0020 - val_loss: 0.0021 - val_mean_squared_error: 0.0021\n",
      "Epoch 9/30\n",
      "279216/279216 [==============================] - 23s 82us/step - loss: 0.0019 - mean_squared_error: 0.0019 - val_loss: 0.0018 - val_mean_squared_error: 0.0018\n",
      "Epoch 10/30\n",
      "279216/279216 [==============================] - 27s 96us/step - loss: 0.0020 - mean_squared_error: 0.0020 - val_loss: 0.0018 - val_mean_squared_error: 0.0018\n",
      "Epoch 11/30\n",
      "279216/279216 [==============================] - 25s 89us/step - loss: 0.0020 - mean_squared_error: 0.0020 - val_loss: 0.0021 - val_mean_squared_error: 0.0021\n",
      "Epoch 12/30\n",
      "279216/279216 [==============================] - 24s 88us/step - loss: 0.0020 - mean_squared_error: 0.0020 - val_loss: 0.0021 - val_mean_squared_error: 0.0021\n",
      "Epoch 13/30\n",
      "279216/279216 [==============================] - 28s 102us/step - loss: 0.0020 - mean_squared_error: 0.0020 - val_loss: 0.0026 - val_mean_squared_error: 0.0026\n",
      "Epoch 14/30\n",
      "279216/279216 [==============================] - 27s 98us/step - loss: 0.0019 - mean_squared_error: 0.0019 - val_loss: 0.0022 - val_mean_squared_error: 0.0022\n",
      "Epoch 15/30\n",
      "279216/279216 [==============================] - 32s 113us/step - loss: 0.0019 - mean_squared_error: 0.0019 - val_loss: 0.0019 - val_mean_squared_error: 0.0019\n",
      "Epoch 16/30\n",
      "279216/279216 [==============================] - 30s 109us/step - loss: 0.0019 - mean_squared_error: 0.0019 - val_loss: 0.0021 - val_mean_squared_error: 0.0021\n",
      "Epoch 17/30\n",
      "279216/279216 [==============================] - 31s 110us/step - loss: 0.0019 - mean_squared_error: 0.0019 - val_loss: 0.0020 - val_mean_squared_error: 0.0020\n",
      "Epoch 18/30\n",
      "279216/279216 [==============================] - 31s 111us/step - loss: 0.0019 - mean_squared_error: 0.0019 - val_loss: 0.0021 - val_mean_squared_error: 0.0021\n",
      "Epoch 19/30\n",
      "279216/279216 [==============================] - 30s 109us/step - loss: 0.0019 - mean_squared_error: 0.0019 - val_loss: 0.0025 - val_mean_squared_error: 0.0025\n",
      "Epoch 20/30\n",
      "279216/279216 [==============================] - 31s 111us/step - loss: 0.0018 - mean_squared_error: 0.0018 - val_loss: 0.0021 - val_mean_squared_error: 0.0021\n",
      "Epoch 21/30\n",
      "279216/279216 [==============================] - 31s 112us/step - loss: 0.0018 - mean_squared_error: 0.0018 - val_loss: 0.0019 - val_mean_squared_error: 0.0019\n",
      "Epoch 22/30\n",
      "279216/279216 [==============================] - 35s 125us/step - loss: 0.0018 - mean_squared_error: 0.0018 - val_loss: 0.0021 - val_mean_squared_error: 0.0021\n",
      "Epoch 23/30\n",
      "279216/279216 [==============================] - 32s 114us/step - loss: 0.0018 - mean_squared_error: 0.0018 - val_loss: 0.0021 - val_mean_squared_error: 0.0021\n",
      "Epoch 24/30\n",
      "279216/279216 [==============================] - 31s 110us/step - loss: 0.0018 - mean_squared_error: 0.0018 - val_loss: 0.0021 - val_mean_squared_error: 0.0021\n",
      "Epoch 25/30\n",
      "279216/279216 [==============================] - 31s 111us/step - loss: 0.0018 - mean_squared_error: 0.0018 - val_loss: 0.0023 - val_mean_squared_error: 0.0023\n",
      "Epoch 26/30\n",
      "279216/279216 [==============================] - 31s 112us/step - loss: 0.0018 - mean_squared_error: 0.0018 - val_loss: 0.0021 - val_mean_squared_error: 0.0021\n",
      "Epoch 27/30\n",
      "279216/279216 [==============================] - 31s 112us/step - loss: 0.0018 - mean_squared_error: 0.0018 - val_loss: 0.0018 - val_mean_squared_error: 0.0018\n",
      "Epoch 28/30\n",
      "279216/279216 [==============================] - 25s 89us/step - loss: 0.0018 - mean_squared_error: 0.0018 - val_loss: 0.0020 - val_mean_squared_error: 0.0020\n",
      "Epoch 29/30\n",
      "279216/279216 [==============================] - 24s 85us/step - loss: 0.0018 - mean_squared_error: 0.0018 - val_loss: 0.0023 - val_mean_squared_error: 0.0023\n",
      "Epoch 30/30\n",
      "279216/279216 [==============================] - 24s 86us/step - loss: 0.0018 - mean_squared_error: 0.0018 - val_loss: 0.0023 - val_mean_squared_error: 0.0023\n"
     ]
    }
   ],
   "source": [
    "model = KerasRegressor(build_fn=create_baseline_model)\n",
    "hist = model.fit(X_train, y_train, validation_data=(X_val, y_val), epochs=30)\n",
    "preds = model.predict(X_test)"
   ]
  },
  {
   "cell_type": "code",
   "execution_count": 30,
   "metadata": {},
   "outputs": [
    {
     "name": "stdout",
     "output_type": "stream",
     "text": [
      "|     Real |   Predict |\n",
      "|----------+-----------|\n",
      "| 0.202258 | 0.137764  |\n",
      "| 0.384286 | 0.303092  |\n",
      "| 0.033815 | 0.0527015 |\n",
      "| 0.635514 | 0.496133  |\n",
      "| 0.082844 | 0.121241  |\n",
      "| 0.077451 | 0.186046  |\n",
      "| 0.173062 | 0.176862  |\n",
      "| 0.140931 | 0.164377  |\n",
      "| 0.042802 | 0.0771742 |\n",
      "| 0.080199 | 0.105305  |\n",
      "| 0.159216 | 0.157188  |\n",
      "| 0.275251 | 0.279099  |\n",
      "| 0.137887 | 0.152176  |\n",
      "| 0.242895 | 0.191232  |\n",
      "| 0.085739 | 0.133276  |\n",
      "| 0.167368 | 0.187164  |\n",
      "| 0.049474 | 0.0898647 |\n",
      "| 0.389837 | 0.322859  |\n",
      "| 0.175565 | 0.168887  |\n",
      "| 0.12229  | 0.120863  |\n",
      "| 0.18369  | 0.178969  |\n",
      "| 0.066047 | 0.103039  |\n",
      "| 0.101232 | 0.152142  |\n",
      "| 0.188021 | 0.194155  |\n",
      "| 0.25487  | 0.338632  |\n",
      "| 0.088456 | 0.138796  |\n",
      "| 0.135544 | 0.151733  |\n",
      "| 0.333799 | 0.32128   |\n",
      "| 0.257815 | 0.268258  |\n",
      "| 0.066265 | 0.119458  |\n",
      "| 0.085536 | 0.145266  |\n",
      "| 0.380118 | 0.341444  |\n",
      "| 0.14705  | 0.147475  |\n",
      "| 0.503077 | 0.471922  |\n",
      "| 0.071456 | 0.145588  |\n",
      "| 0.001909 | 0.260279  |\n",
      "| 0.146141 | 0.147726  |\n",
      "| 0.343    | 0.293713  |\n",
      "| 0.119272 | 0.144279  |\n",
      "| 0.073871 | 0.13311   |\n",
      "| 0.334592 | 0.331672  |\n",
      "| 0.105794 | 0.0927619 |\n",
      "| 0.095248 | 0.158895  |\n",
      "| 0.193394 | 0.175762  |\n",
      "| 0.047248 | 0.0935416 |\n",
      "| 0.058266 | 0.0677697 |\n",
      "| 0.134502 | 0.131993  |\n",
      "| 0.092814 | 0.114761  |\n",
      "| 0.115855 | 0.131662  |\n",
      "| 0.058798 | 0.114309  |\n"
     ]
    }
   ],
   "source": [
    "pred = preds.reshape(len(preds))\n",
    "real = y_test\n",
    "\n",
    "plot_table(real, pred)"
   ]
  },
  {
   "cell_type": "code",
   "execution_count": 31,
   "metadata": {},
   "outputs": [
    {
     "name": "stdout",
     "output_type": "stream",
     "text": [
      "69804/69804 [==============================] - 2s 26us/step\n",
      "Cross-Val Score: -0.00234010414629\n"
     ]
    }
   ],
   "source": [
    "score = model.score(X_val, y_val)\n",
    "print('Cross-Val Score:', score)"
   ]
  },
  {
   "cell_type": "code",
   "execution_count": 32,
   "metadata": {
    "scrolled": true
   },
   "outputs": [
    {
     "data": {
      "image/png": "[encoded data removed]",
      "text/plain": [
       "<Figure size 432x288 with 4 Axes>"
      ]
     },
     "metadata": {},
     "output_type": "display_data"
    }
   ],
   "source": [
    "plot_scatter(X_train, y_train, X_val, y_val, X_test, y_test, preds, show_only=True)"
   ]
  },
  {
   "cell_type": "markdown",
   "metadata": {},
   "source": [
    "### Adhafera:\n",
    "\n",
    "![](adhafera/ann/redshift.png)"
   ]
  },
  {
   "cell_type": "code",
   "execution_count": 33,
   "metadata": {},
   "outputs": [
    {
     "data": {
      "image/png": "[encoded data removed]",
      "text/plain": [
       "<Figure size 432x288 with 1 Axes>"
      ]
     },
     "metadata": {},
     "output_type": "display_data"
    }
   ],
   "source": [
    "plot(hist.history, 'mean_squared_error', show_only=True)"
   ]
  },
  {
   "cell_type": "markdown",
   "metadata": {},
   "source": [
    "### Adhafera:\n",
    "\n",
    "![](adhafera/ann/mse.png)"
   ]
  },
  {
   "cell_type": "code",
   "execution_count": 34,
   "metadata": {},
   "outputs": [
    {
     "data": {
      "image/png": "[encoded data removed]",
      "text/plain": [
       "<Figure size 432x288 with 1 Axes>"
      ]
     },
     "metadata": {},
     "output_type": "display_data"
    }
   ],
   "source": [
    "plot_hm(real, pred, show_only=True)"
   ]
  },
  {
   "cell_type": "markdown",
   "metadata": {},
   "source": [
    "### Adhafera:\n",
    "\n",
    "![](adhafera/ann/hm.png)"
   ]
  },
  {
   "cell_type": "code",
   "execution_count": null,
   "metadata": {},
   "outputs": [],
   "source": []
  }
 ],
 "metadata": {
  "kernelspec": {
   "display_name": "Python 3",
   "language": "python",
   "name": "python3"
  },
  "language_info": {
   "codemirror_mode": {
    "name": "ipython",
    "version": 3
   },
   "file_extension": ".py",
   "mimetype": "text/x-python",
   "name": "python",
   "nbconvert_exporter": "python",
   "pygments_lexer": "ipython3",
   "version": "3.6.3"
  }
 },
 "nbformat": 4,
 "nbformat_minor": 2
}
